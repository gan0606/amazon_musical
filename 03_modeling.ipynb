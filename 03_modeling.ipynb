{
 "cells": [
  {
   "cell_type": "code",
   "execution_count": 1,
   "metadata": {},
   "outputs": [],
   "source": [
    "import numpy as np\n",
    "import os\n",
    "\n",
    "# 学習済みモデルとtalkenizerのimport\n",
    "from transformers import BertForSequenceClassification, BertTokenizer\n",
    "# データセットの作成\n",
    "from datasets import load_dataset\n",
    "\n",
    "# finetuning\n",
    "import peft\n",
    "\n",
    "# 訓練時のハイパーパラメータと学習の設定\n",
    "from transformers import Trainer, TrainingArguments\n",
    "\n",
    "# 評価用の関数の設定\n",
    "from sklearn.metrics import accuracy_score, f1_score"
   ]
  },
  {
   "cell_type": "code",
   "execution_count": 2,
   "metadata": {},
   "outputs": [],
   "source": [
    "# 混同行列の作成\n",
    "import matplotlib.pyplot as plt\n",
    "from sklearn.metrics import ConfusionMatrixDisplay, confusion_matrix\n",
    "\n",
    "# モデルの保存\n",
    "import torch"
   ]
  },
  {
   "cell_type": "code",
   "execution_count": 3,
   "metadata": {},
   "outputs": [
    {
     "name": "stderr",
     "output_type": "stream",
     "text": [
      "Some weights of BertForSequenceClassification were not initialized from the model checkpoint at bert-base-uncased and are newly initialized: ['classifier.bias', 'classifier.weight']\n",
      "You should probably TRAIN this model on a down-stream task to be able to use it for predictions and inference.\n"
     ]
    }
   ],
   "source": [
    "# 訓練済みモデルの読み込み\n",
    "base_model = BertForSequenceClassification.from_pretrained(\"bert-base-uncased\", num_labels=3)"
   ]
  },
  {
   "cell_type": "code",
   "execution_count": 4,
   "metadata": {},
   "outputs": [],
   "source": [
    "# ファインチューニングの設定\n",
    "peft_config = peft.LoraConfig(\n",
    "    # タスクのタイプ\n",
    "    task_type=peft.TaskType.SEQ_CLS,\n",
    "    # 差分行列のランク\n",
    "    r=100,\n",
    "    lora_alpha=32,\n",
    "    lora_dropout=0.1,\n",
    "    # 推論に使う場合はinference_modeはTrue, 学習の時はFalse\n",
    "    inference_mode=False,\n",
    "    # 再学習の使う層\n",
    "    target_modules=\"all-linear\"\n",
    ")"
   ]
  },
  {
   "cell_type": "code",
   "execution_count": 5,
   "metadata": {},
   "outputs": [
    {
     "data": {
      "text/plain": [
       "PeftModelForSequenceClassification(\n",
       "  (base_model): LoraModel(\n",
       "    (model): BertForSequenceClassification(\n",
       "      (bert): BertModel(\n",
       "        (embeddings): BertEmbeddings(\n",
       "          (word_embeddings): Embedding(30522, 768, padding_idx=0)\n",
       "          (position_embeddings): Embedding(512, 768)\n",
       "          (token_type_embeddings): Embedding(2, 768)\n",
       "          (LayerNorm): LayerNorm((768,), eps=1e-12, elementwise_affine=True)\n",
       "          (dropout): Dropout(p=0.1, inplace=False)\n",
       "        )\n",
       "        (encoder): BertEncoder(\n",
       "          (layer): ModuleList(\n",
       "            (0-11): 12 x BertLayer(\n",
       "              (attention): BertAttention(\n",
       "                (self): BertSelfAttention(\n",
       "                  (query): lora.Linear(\n",
       "                    (base_layer): Linear(in_features=768, out_features=768, bias=True)\n",
       "                    (lora_dropout): ModuleDict(\n",
       "                      (default): Dropout(p=0.1, inplace=False)\n",
       "                    )\n",
       "                    (lora_A): ModuleDict(\n",
       "                      (default): Linear(in_features=768, out_features=100, bias=False)\n",
       "                    )\n",
       "                    (lora_B): ModuleDict(\n",
       "                      (default): Linear(in_features=100, out_features=768, bias=False)\n",
       "                    )\n",
       "                    (lora_embedding_A): ParameterDict()\n",
       "                    (lora_embedding_B): ParameterDict()\n",
       "                  )\n",
       "                  (key): lora.Linear(\n",
       "                    (base_layer): Linear(in_features=768, out_features=768, bias=True)\n",
       "                    (lora_dropout): ModuleDict(\n",
       "                      (default): Dropout(p=0.1, inplace=False)\n",
       "                    )\n",
       "                    (lora_A): ModuleDict(\n",
       "                      (default): Linear(in_features=768, out_features=100, bias=False)\n",
       "                    )\n",
       "                    (lora_B): ModuleDict(\n",
       "                      (default): Linear(in_features=100, out_features=768, bias=False)\n",
       "                    )\n",
       "                    (lora_embedding_A): ParameterDict()\n",
       "                    (lora_embedding_B): ParameterDict()\n",
       "                  )\n",
       "                  (value): lora.Linear(\n",
       "                    (base_layer): Linear(in_features=768, out_features=768, bias=True)\n",
       "                    (lora_dropout): ModuleDict(\n",
       "                      (default): Dropout(p=0.1, inplace=False)\n",
       "                    )\n",
       "                    (lora_A): ModuleDict(\n",
       "                      (default): Linear(in_features=768, out_features=100, bias=False)\n",
       "                    )\n",
       "                    (lora_B): ModuleDict(\n",
       "                      (default): Linear(in_features=100, out_features=768, bias=False)\n",
       "                    )\n",
       "                    (lora_embedding_A): ParameterDict()\n",
       "                    (lora_embedding_B): ParameterDict()\n",
       "                  )\n",
       "                  (dropout): Dropout(p=0.1, inplace=False)\n",
       "                )\n",
       "                (output): BertSelfOutput(\n",
       "                  (dense): lora.Linear(\n",
       "                    (base_layer): Linear(in_features=768, out_features=768, bias=True)\n",
       "                    (lora_dropout): ModuleDict(\n",
       "                      (default): Dropout(p=0.1, inplace=False)\n",
       "                    )\n",
       "                    (lora_A): ModuleDict(\n",
       "                      (default): Linear(in_features=768, out_features=100, bias=False)\n",
       "                    )\n",
       "                    (lora_B): ModuleDict(\n",
       "                      (default): Linear(in_features=100, out_features=768, bias=False)\n",
       "                    )\n",
       "                    (lora_embedding_A): ParameterDict()\n",
       "                    (lora_embedding_B): ParameterDict()\n",
       "                  )\n",
       "                  (LayerNorm): LayerNorm((768,), eps=1e-12, elementwise_affine=True)\n",
       "                  (dropout): Dropout(p=0.1, inplace=False)\n",
       "                )\n",
       "              )\n",
       "              (intermediate): BertIntermediate(\n",
       "                (dense): lora.Linear(\n",
       "                  (base_layer): Linear(in_features=768, out_features=3072, bias=True)\n",
       "                  (lora_dropout): ModuleDict(\n",
       "                    (default): Dropout(p=0.1, inplace=False)\n",
       "                  )\n",
       "                  (lora_A): ModuleDict(\n",
       "                    (default): Linear(in_features=768, out_features=100, bias=False)\n",
       "                  )\n",
       "                  (lora_B): ModuleDict(\n",
       "                    (default): Linear(in_features=100, out_features=3072, bias=False)\n",
       "                  )\n",
       "                  (lora_embedding_A): ParameterDict()\n",
       "                  (lora_embedding_B): ParameterDict()\n",
       "                )\n",
       "                (intermediate_act_fn): GELUActivation()\n",
       "              )\n",
       "              (output): BertOutput(\n",
       "                (dense): lora.Linear(\n",
       "                  (base_layer): Linear(in_features=3072, out_features=768, bias=True)\n",
       "                  (lora_dropout): ModuleDict(\n",
       "                    (default): Dropout(p=0.1, inplace=False)\n",
       "                  )\n",
       "                  (lora_A): ModuleDict(\n",
       "                    (default): Linear(in_features=3072, out_features=100, bias=False)\n",
       "                  )\n",
       "                  (lora_B): ModuleDict(\n",
       "                    (default): Linear(in_features=100, out_features=768, bias=False)\n",
       "                  )\n",
       "                  (lora_embedding_A): ParameterDict()\n",
       "                  (lora_embedding_B): ParameterDict()\n",
       "                )\n",
       "                (LayerNorm): LayerNorm((768,), eps=1e-12, elementwise_affine=True)\n",
       "                (dropout): Dropout(p=0.1, inplace=False)\n",
       "              )\n",
       "            )\n",
       "          )\n",
       "        )\n",
       "        (pooler): BertPooler(\n",
       "          (dense): lora.Linear(\n",
       "            (base_layer): Linear(in_features=768, out_features=768, bias=True)\n",
       "            (lora_dropout): ModuleDict(\n",
       "              (default): Dropout(p=0.1, inplace=False)\n",
       "            )\n",
       "            (lora_A): ModuleDict(\n",
       "              (default): Linear(in_features=768, out_features=100, bias=False)\n",
       "            )\n",
       "            (lora_B): ModuleDict(\n",
       "              (default): Linear(in_features=100, out_features=768, bias=False)\n",
       "            )\n",
       "            (lora_embedding_A): ParameterDict()\n",
       "            (lora_embedding_B): ParameterDict()\n",
       "          )\n",
       "          (activation): Tanh()\n",
       "        )\n",
       "      )\n",
       "      (dropout): Dropout(p=0.1, inplace=False)\n",
       "      (classifier): ModulesToSaveWrapper(\n",
       "        (original_module): lora.Linear(\n",
       "          (base_layer): Linear(in_features=768, out_features=3, bias=True)\n",
       "          (lora_dropout): ModuleDict(\n",
       "            (default): Dropout(p=0.1, inplace=False)\n",
       "          )\n",
       "          (lora_A): ModuleDict(\n",
       "            (default): Linear(in_features=768, out_features=100, bias=False)\n",
       "          )\n",
       "          (lora_B): ModuleDict(\n",
       "            (default): Linear(in_features=100, out_features=3, bias=False)\n",
       "          )\n",
       "          (lora_embedding_A): ParameterDict()\n",
       "          (lora_embedding_B): ParameterDict()\n",
       "        )\n",
       "        (modules_to_save): ModuleDict(\n",
       "          (default): lora.Linear(\n",
       "            (base_layer): Linear(in_features=768, out_features=3, bias=True)\n",
       "            (lora_dropout): ModuleDict(\n",
       "              (default): Dropout(p=0.1, inplace=False)\n",
       "            )\n",
       "            (lora_A): ModuleDict(\n",
       "              (default): Linear(in_features=768, out_features=100, bias=False)\n",
       "            )\n",
       "            (lora_B): ModuleDict(\n",
       "              (default): Linear(in_features=100, out_features=3, bias=False)\n",
       "            )\n",
       "            (lora_embedding_A): ParameterDict()\n",
       "            (lora_embedding_B): ParameterDict()\n",
       "          )\n",
       "        )\n",
       "      )\n",
       "    )\n",
       "  )\n",
       ")"
      ]
     },
     "execution_count": 5,
     "metadata": {},
     "output_type": "execute_result"
    }
   ],
   "source": [
    "# peftをモデルに適用\n",
    "sc_model = peft.get_peft_model(model=base_model, peft_config=peft_config)\n",
    "# モデルをcudaに渡す\n",
    "sc_model.cuda()"
   ]
  },
  {
   "cell_type": "code",
   "execution_count": 6,
   "metadata": {},
   "outputs": [
    {
     "name": "stdout",
     "output_type": "stream",
     "text": [
      "trainable params: 16,821,807 || all params: 126,383,454 || trainable%: 13.310133935728643\n"
     ]
    }
   ],
   "source": [
    "# 学習するparamsの数\n",
    "sc_model.print_trainable_parameters()"
   ]
  },
  {
   "cell_type": "code",
   "execution_count": 7,
   "metadata": {},
   "outputs": [],
   "source": [
    "# tokenizerの読み込み\n",
    "tokenizer = BertTokenizer.from_pretrained(\"bert-base-uncased\")"
   ]
  },
  {
   "cell_type": "code",
   "execution_count": 8,
   "metadata": {},
   "outputs": [],
   "source": [
    "# csvファイルをデータセットに変換\n",
    "train_data = load_dataset(\"csv\", data_files=\"train_data.csv\", column_names=[\"text\", \"label\"], split=\"train\")\n",
    "valid_data = load_dataset(\"csv\", data_files=\"valid_data.csv\", column_names=[\"text\", \"label\"], split=\"train\")\n",
    "test_data = load_dataset(\"csv\", data_files=\"test_data.csv\", column_names=[\"text\", \"label\"], split=\"train\")"
   ]
  },
  {
   "cell_type": "code",
   "execution_count": 9,
   "metadata": {},
   "outputs": [],
   "source": [
    "# labelをstringからclasslabelに変更\n",
    "train_data = train_data.class_encode_column(\"label\")\n",
    "valid_data = valid_data.class_encode_column(\"label\")\n",
    "test_data = test_data.class_encode_column(\"label\")"
   ]
  },
  {
   "cell_type": "code",
   "execution_count": 10,
   "metadata": {},
   "outputs": [],
   "source": [
    "# トークン化の関数\n",
    "def tokenize(batch):\n",
    "    # データセットのテキスト列を取得\n",
    "    texts = batch[\"text\"]\n",
    "    if isinstance(texts, str):\n",
    "        # テキストが単一の文字列の場合、tokenizerに直接渡す\n",
    "        return tokenizer(texts, padding=True, truncation=True, max_length=128)\n",
    "    elif isinstance(texts, (list, tuple)):\n",
    "        # テキストがリストまたはタプルの場合、各要素を文字列に変換してtokenizerに渡す\n",
    "        return tokenizer([str(text) for text in texts], padding=True, truncation=True, max_length=128)\n",
    "    else:\n",
    "        # 不正な入力形式の場合はエラーを発生させる\n",
    "        raise ValueError(\"Invalid input format. Should be a string, a list/tuple of strings.\")"
   ]
  },
  {
   "cell_type": "code",
   "execution_count": 11,
   "metadata": {},
   "outputs": [],
   "source": [
    "# トークン化の関数を適用\n",
    "train_data = train_data.map(tokenize, batched=True, batch_size=len(train_data))\n",
    "valid_data = valid_data.map(tokenize, batched=True, batch_size=len(valid_data))\n",
    "test_data = test_data.map(tokenize, batched=True, batch_size=len(test_data))"
   ]
  },
  {
   "cell_type": "code",
   "execution_count": 12,
   "metadata": {},
   "outputs": [],
   "source": [
    "# pytorchに入力できるようにformatを変更\n",
    "train_data.set_format(\"torch\", columns=[\"input_ids\", \"attention_mask\", \"label\"])\n",
    "valid_data.set_format(\"torch\", columns=[\"input_ids\", \"attention_mask\", \"label\"])\n",
    "test_data.set_format(\"torch\", columns=[\"input_ids\", \"attention_mask\", \"label\"])"
   ]
  },
  {
   "cell_type": "code",
   "execution_count": 13,
   "metadata": {},
   "outputs": [],
   "source": [
    "# 評価用の関数の設定\n",
    "from sklearn.metrics import accuracy_score, f1_score\n",
    "def compute_metrics(result):\n",
    "    labels = result.label_ids\n",
    "    preds = result.predictions.argmax(-1)\n",
    "    # accuracy_scoreの算出\n",
    "    acc = accuracy_score(labels, preds)\n",
    "    # f1_scoreの算出\n",
    "    f1 = f1_score(labels, preds, average=\"weighted\")\n",
    "    return {\n",
    "        \"accuracy score\": acc,\n",
    "        \"f1 score\": f1\n",
    "    }"
   ]
  },
  {
   "cell_type": "code",
   "execution_count": 16,
   "metadata": {},
   "outputs": [],
   "source": [
    "# ハイパーパラメータの設定\n",
    "training_args = TrainingArguments(\n",
    "    output_dir=\"outputs2/results/\",\n",
    "    evaluation_strategy=\"epoch\",\n",
    "    num_train_epochs=10,\n",
    "    learning_rate=1e-4,\n",
    "    per_device_train_batch_size=8,\n",
    "    per_device_eval_batch_size=32,\n",
    "    warmup_steps=500,\n",
    "    weight_decay=0.01,\n",
    "    logging_dir=\"outputs2/logs/\"\n",
    ")"
   ]
  },
  {
   "cell_type": "code",
   "execution_count": 17,
   "metadata": {},
   "outputs": [],
   "source": [
    "# 学習の設定\n",
    "trainer = Trainer(\n",
    "    model=sc_model,\n",
    "    args = training_args,\n",
    "    compute_metrics=compute_metrics,\n",
    "    train_dataset=train_data,\n",
    "    eval_dataset=valid_data,\n",
    "    tokenizer=tokenizer\n",
    ")"
   ]
  },
  {
   "cell_type": "code",
   "execution_count": 18,
   "metadata": {},
   "outputs": [
    {
     "data": {
      "application/vnd.jupyter.widget-view+json": {
       "model_id": "bdbf23d0c5b44e3481e6f954cd051c31",
       "version_major": 2,
       "version_minor": 0
      },
      "text/plain": [
       "  0%|          | 0/10260 [00:00<?, ?it/s]"
      ]
     },
     "metadata": {},
     "output_type": "display_data"
    },
    {
     "name": "stdout",
     "output_type": "stream",
     "text": [
      "{'loss': 0.5072, 'grad_norm': 6.099201202392578, 'learning_rate': 0.0001, 'epoch': 0.49}\n",
      "{'loss': 0.3263, 'grad_norm': 1.7606921195983887, 'learning_rate': 9.487704918032787e-05, 'epoch': 0.97}\n"
     ]
    },
    {
     "data": {
      "application/vnd.jupyter.widget-view+json": {
       "model_id": "63841726335f40679645f23a5fd4ef3a",
       "version_major": 2,
       "version_minor": 0
      },
      "text/plain": [
       "  0%|          | 0/33 [00:00<?, ?it/s]"
      ]
     },
     "metadata": {},
     "output_type": "display_data"
    },
    {
     "name": "stdout",
     "output_type": "stream",
     "text": [
      "{'eval_loss': 0.2579139769077301, 'eval_accuracy score': 0.8976608187134503, 'eval_f1 score': 0.8850912612231628, 'eval_runtime': 4.7758, 'eval_samples_per_second': 214.832, 'eval_steps_per_second': 6.91, 'epoch': 1.0}\n",
      "{'loss': 0.2852, 'grad_norm': 7.84589147567749, 'learning_rate': 8.975409836065574e-05, 'epoch': 1.46}\n",
      "{'loss': 0.2736, 'grad_norm': 2.150392770767212, 'learning_rate': 8.463114754098362e-05, 'epoch': 1.95}\n"
     ]
    },
    {
     "data": {
      "application/vnd.jupyter.widget-view+json": {
       "model_id": "08e475e38bfe4c98b576dceea176ed03",
       "version_major": 2,
       "version_minor": 0
      },
      "text/plain": [
       "  0%|          | 0/33 [00:00<?, ?it/s]"
      ]
     },
     "metadata": {},
     "output_type": "display_data"
    },
    {
     "name": "stdout",
     "output_type": "stream",
     "text": [
      "{'eval_loss': 0.25763487815856934, 'eval_accuracy score': 0.898635477582846, 'eval_f1 score': 0.8959919462690046, 'eval_runtime': 4.7957, 'eval_samples_per_second': 213.944, 'eval_steps_per_second': 6.881, 'epoch': 2.0}\n",
      "{'loss': 0.2148, 'grad_norm': 1.0020976066589355, 'learning_rate': 7.950819672131148e-05, 'epoch': 2.44}\n",
      "{'loss': 0.2354, 'grad_norm': 4.245909214019775, 'learning_rate': 7.438524590163934e-05, 'epoch': 2.92}\n"
     ]
    },
    {
     "data": {
      "application/vnd.jupyter.widget-view+json": {
       "model_id": "924976a278a4493684e9ee0067da1efc",
       "version_major": 2,
       "version_minor": 0
      },
      "text/plain": [
       "  0%|          | 0/33 [00:00<?, ?it/s]"
      ]
     },
     "metadata": {},
     "output_type": "display_data"
    },
    {
     "name": "stdout",
     "output_type": "stream",
     "text": [
      "{'eval_loss': 0.2530713379383087, 'eval_accuracy score': 0.9152046783625731, 'eval_f1 score': 0.9128067998240824, 'eval_runtime': 4.8097, 'eval_samples_per_second': 213.318, 'eval_steps_per_second': 6.861, 'epoch': 3.0}\n",
      "{'loss': 0.1955, 'grad_norm': 4.24986457824707, 'learning_rate': 6.926229508196722e-05, 'epoch': 3.41}\n",
      "{'loss': 0.1855, 'grad_norm': 0.05837570130825043, 'learning_rate': 6.41393442622951e-05, 'epoch': 3.9}\n"
     ]
    },
    {
     "data": {
      "application/vnd.jupyter.widget-view+json": {
       "model_id": "64e8de427e014d0c876c05daf8724085",
       "version_major": 2,
       "version_minor": 0
      },
      "text/plain": [
       "  0%|          | 0/33 [00:00<?, ?it/s]"
      ]
     },
     "metadata": {},
     "output_type": "display_data"
    },
    {
     "name": "stdout",
     "output_type": "stream",
     "text": [
      "{'eval_loss': 0.32365164160728455, 'eval_accuracy score': 0.9122807017543859, 'eval_f1 score': 0.9056611019571428, 'eval_runtime': 4.7715, 'eval_samples_per_second': 215.026, 'eval_steps_per_second': 6.916, 'epoch': 4.0}\n",
      "{'loss': 0.1681, 'grad_norm': 0.11040841042995453, 'learning_rate': 5.9016393442622956e-05, 'epoch': 4.39}\n",
      "{'loss': 0.1512, 'grad_norm': 4.504243850708008, 'learning_rate': 5.389344262295082e-05, 'epoch': 4.87}\n"
     ]
    },
    {
     "data": {
      "application/vnd.jupyter.widget-view+json": {
       "model_id": "6fb875eb140248d38a49a6e2f9325124",
       "version_major": 2,
       "version_minor": 0
      },
      "text/plain": [
       "  0%|          | 0/33 [00:00<?, ?it/s]"
      ]
     },
     "metadata": {},
     "output_type": "display_data"
    },
    {
     "name": "stdout",
     "output_type": "stream",
     "text": [
      "{'eval_loss': 0.36017686128616333, 'eval_accuracy score': 0.905458089668616, 'eval_f1 score': 0.9047538885712264, 'eval_runtime': 4.7805, 'eval_samples_per_second': 214.621, 'eval_steps_per_second': 6.903, 'epoch': 5.0}\n",
      "{'loss': 0.1291, 'grad_norm': 0.05257025361061096, 'learning_rate': 4.8770491803278687e-05, 'epoch': 5.36}\n",
      "{'loss': 0.1311, 'grad_norm': 5.614421844482422, 'learning_rate': 4.364754098360656e-05, 'epoch': 5.85}\n"
     ]
    },
    {
     "data": {
      "application/vnd.jupyter.widget-view+json": {
       "model_id": "26369225dc74431d9c9b952565029d74",
       "version_major": 2,
       "version_minor": 0
      },
      "text/plain": [
       "  0%|          | 0/33 [00:00<?, ?it/s]"
      ]
     },
     "metadata": {},
     "output_type": "display_data"
    },
    {
     "name": "stdout",
     "output_type": "stream",
     "text": [
      "{'eval_loss': 0.4004164934158325, 'eval_accuracy score': 0.9103313840155945, 'eval_f1 score': 0.9024647777916651, 'eval_runtime': 4.7892, 'eval_samples_per_second': 214.231, 'eval_steps_per_second': 6.89, 'epoch': 6.0}\n",
      "{'loss': 0.0966, 'grad_norm': 1.408848524093628, 'learning_rate': 3.8524590163934424e-05, 'epoch': 6.34}\n",
      "{'loss': 0.1009, 'grad_norm': 0.062466811388731, 'learning_rate': 3.34016393442623e-05, 'epoch': 6.82}\n"
     ]
    },
    {
     "data": {
      "application/vnd.jupyter.widget-view+json": {
       "model_id": "a1b192382ac24b03babc3a6bbcfdc330",
       "version_major": 2,
       "version_minor": 0
      },
      "text/plain": [
       "  0%|          | 0/33 [00:00<?, ?it/s]"
      ]
     },
     "metadata": {},
     "output_type": "display_data"
    },
    {
     "name": "stdout",
     "output_type": "stream",
     "text": [
      "{'eval_loss': 0.42207029461860657, 'eval_accuracy score': 0.9103313840155945, 'eval_f1 score': 0.9067817782563539, 'eval_runtime': 4.776, 'eval_samples_per_second': 214.824, 'eval_steps_per_second': 6.91, 'epoch': 7.0}\n",
      "{'loss': 0.0791, 'grad_norm': 0.048890121281147, 'learning_rate': 2.8278688524590162e-05, 'epoch': 7.31}\n",
      "{'loss': 0.0896, 'grad_norm': 0.10301068425178528, 'learning_rate': 2.3155737704918034e-05, 'epoch': 7.8}\n"
     ]
    },
    {
     "data": {
      "application/vnd.jupyter.widget-view+json": {
       "model_id": "21b58ab9363e4b65988d65ef4e17f0e3",
       "version_major": 2,
       "version_minor": 0
      },
      "text/plain": [
       "  0%|          | 0/33 [00:00<?, ?it/s]"
      ]
     },
     "metadata": {},
     "output_type": "display_data"
    },
    {
     "name": "stdout",
     "output_type": "stream",
     "text": [
      "{'eval_loss': 0.48620253801345825, 'eval_accuracy score': 0.9083820662768031, 'eval_f1 score': 0.9063648551545508, 'eval_runtime': 4.7722, 'eval_samples_per_second': 214.997, 'eval_steps_per_second': 6.915, 'epoch': 8.0}\n",
      "{'loss': 0.0745, 'grad_norm': 0.13018794357776642, 'learning_rate': 1.8032786885245903e-05, 'epoch': 8.28}\n",
      "{'loss': 0.0614, 'grad_norm': 6.191988945007324, 'learning_rate': 1.2909836065573772e-05, 'epoch': 8.77}\n"
     ]
    },
    {
     "data": {
      "application/vnd.jupyter.widget-view+json": {
       "model_id": "6ac2e0ed267b481eb6a183b169f0140e",
       "version_major": 2,
       "version_minor": 0
      },
      "text/plain": [
       "  0%|          | 0/33 [00:00<?, ?it/s]"
      ]
     },
     "metadata": {},
     "output_type": "display_data"
    },
    {
     "name": "stdout",
     "output_type": "stream",
     "text": [
      "{'eval_loss': 0.5168946981430054, 'eval_accuracy score': 0.9074074074074074, 'eval_f1 score': 0.9042111004759562, 'eval_runtime': 4.784, 'eval_samples_per_second': 214.467, 'eval_steps_per_second': 6.898, 'epoch': 9.0}\n",
      "{'loss': 0.063, 'grad_norm': 0.08803786337375641, 'learning_rate': 7.78688524590164e-06, 'epoch': 9.26}\n",
      "{'loss': 0.0476, 'grad_norm': 0.04232846572995186, 'learning_rate': 2.663934426229508e-06, 'epoch': 9.75}\n"
     ]
    },
    {
     "data": {
      "application/vnd.jupyter.widget-view+json": {
       "model_id": "e3e50f208ee942858bec2f49030bccb9",
       "version_major": 2,
       "version_minor": 0
      },
      "text/plain": [
       "  0%|          | 0/33 [00:00<?, ?it/s]"
      ]
     },
     "metadata": {},
     "output_type": "display_data"
    },
    {
     "name": "stdout",
     "output_type": "stream",
     "text": [
      "{'eval_loss': 0.510105311870575, 'eval_accuracy score': 0.9083820662768031, 'eval_f1 score': 0.9056671384776341, 'eval_runtime': 4.7826, 'eval_samples_per_second': 214.527, 'eval_steps_per_second': 6.9, 'epoch': 10.0}\n",
      "{'train_runtime': 1020.0083, 'train_samples_per_second': 80.47, 'train_steps_per_second': 10.059, 'train_loss': 0.16809648194043492, 'epoch': 10.0}\n"
     ]
    },
    {
     "data": {
      "text/plain": [
       "TrainOutput(global_step=10260, training_loss=0.16809648194043492, metrics={'train_runtime': 1020.0083, 'train_samples_per_second': 80.47, 'train_steps_per_second': 10.059, 'train_loss': 0.16809648194043492, 'epoch': 10.0})"
      ]
     },
     "execution_count": 18,
     "metadata": {},
     "output_type": "execute_result"
    }
   ],
   "source": [
    "# 学習\n",
    "trainer.train()"
   ]
  },
  {
   "cell_type": "code",
   "execution_count": 19,
   "metadata": {},
   "outputs": [
    {
     "data": {
      "application/vnd.jupyter.widget-view+json": {
       "model_id": "4e3316b3cb234855b9ae1cc3a78fd8bb",
       "version_major": 2,
       "version_minor": 0
      },
      "text/plain": [
       "  0%|          | 0/33 [00:00<?, ?it/s]"
      ]
     },
     "metadata": {},
     "output_type": "display_data"
    },
    {
     "data": {
      "text/plain": [
       "{'eval_loss': 0.510105311870575,\n",
       " 'eval_accuracy score': 0.9083820662768031,\n",
       " 'eval_f1 score': 0.9056671384776341,\n",
       " 'eval_runtime': 4.7714,\n",
       " 'eval_samples_per_second': 215.031,\n",
       " 'eval_steps_per_second': 6.916,\n",
       " 'epoch': 10.0}"
      ]
     },
     "execution_count": 19,
     "metadata": {},
     "output_type": "execute_result"
    }
   ],
   "source": [
    "# モデルの評価\n",
    "trainer.evaluate()"
   ]
  },
  {
   "cell_type": "code",
   "execution_count": 20,
   "metadata": {},
   "outputs": [
    {
     "data": {
      "application/vnd.jupyter.widget-view+json": {
       "model_id": "807cacc6963e47dea37d8a75c7ea0d66",
       "version_major": 2,
       "version_minor": 0
      },
      "text/plain": [
       "  0%|          | 0/33 [00:00<?, ?it/s]"
      ]
     },
     "metadata": {},
     "output_type": "display_data"
    },
    {
     "data": {
      "text/plain": [
       "PredictionOutput(predictions=array([[-5.7506027 , -1.7235444 ,  5.2213283 ],\n",
       "       [-4.9510417 ,  2.734855  ,  0.9241381 ],\n",
       "       [-0.68046254,  1.2705716 , -0.61047566],\n",
       "       ...,\n",
       "       [-6.0539746 , -1.4492317 ,  5.1749377 ],\n",
       "       [-6.696121  , -2.0811133 ,  6.179077  ],\n",
       "       [-6.5176153 , -2.2150993 ,  6.1439247 ]], dtype=float32), label_ids=array([2, 2, 2, ..., 2, 2, 2], dtype=int64), metrics={'test_loss': 0.5869067311286926, 'test_accuracy score': 0.8977604673807206, 'test_f1 score': 0.8946062622193269, 'test_runtime': 4.7783, 'test_samples_per_second': 214.93, 'test_steps_per_second': 6.906})"
      ]
     },
     "execution_count": 20,
     "metadata": {},
     "output_type": "execute_result"
    }
   ],
   "source": [
    "# テストデータで推論\n",
    "pred_output = trainer.predict(test_data)\n",
    "pred_output"
   ]
  },
  {
   "cell_type": "markdown",
   "metadata": {},
   "source": [
    "## 混同行列"
   ]
  },
  {
   "cell_type": "code",
   "execution_count": 21,
   "metadata": {},
   "outputs": [
    {
     "data": {
      "text/plain": [
       "array([2, 1, 1, ..., 2, 2, 2], dtype=int64)"
      ]
     },
     "execution_count": 21,
     "metadata": {},
     "output_type": "execute_result"
    }
   ],
   "source": [
    "# pred_outputの中から最も高い確率のものを求めてそれをy_predとする\n",
    "y_pred = np.argmax(pred_output.predictions, axis=1)\n",
    "y_pred"
   ]
  },
  {
   "cell_type": "code",
   "execution_count": 22,
   "metadata": {},
   "outputs": [],
   "source": [
    "# 正解の用意\n",
    "y_test = np.array(test_data[\"label\"])\n",
    "# label_nameの取得\n",
    "label_name = test_data.features[\"label\"].names"
   ]
  },
  {
   "cell_type": "code",
   "execution_count": 23,
   "metadata": {},
   "outputs": [
    {
     "data": {
      "image/png": "[encoded data removed]",
      "text/plain": [
       "<Figure size 1500x1500 with 2 Axes>"
      ]
     },
     "metadata": {},
     "output_type": "display_data"
    }
   ],
   "source": [
    "# 混同行列\n",
    "cm = confusion_matrix(y_true=y_test, y_pred=y_pred)\n",
    "\n",
    "# 混同行列の可視化\n",
    "fig, ax = plt.subplots(figsize=(15, 15))\n",
    "display = ConfusionMatrixDisplay(confusion_matrix=cm, display_labels=label_name)\n",
    "display.plot(ax=ax)\n",
    "plt.title(\"Confusion Matrix\")\n",
    "plt.xticks(rotation=90)\n",
    "plt.savefig(\"confusion_matrix.jpg\")\n",
    "plt.show()"
   ]
  },
  {
   "cell_type": "markdown",
   "metadata": {},
   "source": [
    "## モデルの保存"
   ]
  },
  {
   "cell_type": "code",
   "execution_count": 24,
   "metadata": {},
   "outputs": [
    {
     "data": {
      "text/plain": [
       "('model_finetuned2/tokenizer_config.json',\n",
       " 'model_finetuned2/special_tokens_map.json',\n",
       " 'model_finetuned2/vocab.txt',\n",
       " 'model_finetuned2/added_tokens.json')"
      ]
     },
     "execution_count": 24,
     "metadata": {},
     "output_type": "execute_result"
    }
   ],
   "source": [
    "# 保存先\n",
    "model_path = \"model_finetuned2/\"\n",
    "\n",
    "# モデルの保存\n",
    "sc_model.save_pretrained(model_path)\n",
    "# tokenizerの保存\n",
    "tokenizer.save_pretrained(model_path)"
   ]
  },
  {
   "cell_type": "code",
   "execution_count": 25,
   "metadata": {},
   "outputs": [],
   "source": [
    "# torchで保存\n",
    "torch.save(sc_model.state_dict(), \"model_finetuned2.ckpt\")"
   ]
  },
  {
   "cell_type": "code",
   "execution_count": 26,
   "metadata": {},
   "outputs": [
    {
     "data": {
      "text/plain": [
       "Reusing TensorBoard on port 6007 (pid 6704), started 0:36:45 ago. (Use '!kill 6704' to kill it.)"
      ]
     },
     "metadata": {},
     "output_type": "display_data"
    },
    {
     "data": {
      "text/html": [
       "\n",
       "      <iframe id=\"tensorboard-frame-1c80317fa3b1799d\" width=\"100%\" height=\"800\" frameborder=\"0\">\n",
       "      </iframe>\n",
       "      <script>\n",
       "        (function() {\n",
       "          const frame = document.getElementById(\"tensorboard-frame-1c80317fa3b1799d\");\n",
       "          const url = new URL(\"http://localhost\");\n",
       "          const port = 6007;\n",
       "          if (port) {\n",
       "            url.port = port;\n",
       "          }\n",
       "          frame.src = url;\n",
       "        })();\n",
       "      </script>\n",
       "    "
      ],
      "text/plain": [
       "<IPython.core.display.HTML object>"
      ]
     },
     "metadata": {},
     "output_type": "display_data"
    }
   ],
   "source": [
    "# tensorboardによるlogの可視化\n",
    "from torch.utils import tensorboard\n",
    "%load_ext tensorboard\n",
    "%tensorboard --logdir ./output2/logs"
   ]
  },
  {
   "cell_type": "code",
   "execution_count": null,
   "metadata": {},
   "outputs": [],
   "source": []
  }
 ],
 "metadata": {
  "kernelspec": {
   "display_name": "py_310_transformers3",
   "language": "python",
   "name": "python3"
  },
  "language_info": {
   "codemirror_mode": {
    "name": "ipython",
    "version": 3
   },
   "file_extension": ".py",
   "mimetype": "text/x-python",
   "name": "python",
   "nbconvert_exporter": "python",
   "pygments_lexer": "ipython3",
   "version": "3.10.14"
  }
 },
 "nbformat": 4,
 "nbformat_minor": 2
}
