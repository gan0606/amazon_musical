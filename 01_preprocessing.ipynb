{
 "cells": [
  {
   "cell_type": "code",
   "execution_count": 13,
   "metadata": {},
   "outputs": [],
   "source": [
    "import pandas as pd\n",
    "import numpy as np\n",
    "from sklearn.model_selection import train_test_split\n",
    "import os\n",
    "import re"
   ]
  },
  {
   "cell_type": "markdown",
   "metadata": {},
   "source": [
    "## データの前処理"
   ]
  },
  {
   "cell_type": "code",
   "execution_count": 6,
   "metadata": {},
   "outputs": [
    {
     "data": {
      "text/html": [
       "<div>\n",
       "<style scoped>\n",
       "    .dataframe tbody tr th:only-of-type {\n",
       "        vertical-align: middle;\n",
       "    }\n",
       "\n",
       "    .dataframe tbody tr th {\n",
       "        vertical-align: top;\n",
       "    }\n",
       "\n",
       "    .dataframe thead th {\n",
       "        text-align: right;\n",
       "    }\n",
       "</style>\n",
       "<table border=\"1\" class=\"dataframe\">\n",
       "  <thead>\n",
       "    <tr style=\"text-align: right;\">\n",
       "      <th></th>\n",
       "      <th>reviewerID</th>\n",
       "      <th>asin</th>\n",
       "      <th>reviewerName</th>\n",
       "      <th>helpful</th>\n",
       "      <th>reviewText</th>\n",
       "      <th>overall</th>\n",
       "      <th>summary</th>\n",
       "      <th>unixReviewTime</th>\n",
       "      <th>reviewTime</th>\n",
       "    </tr>\n",
       "  </thead>\n",
       "  <tbody>\n",
       "    <tr>\n",
       "      <th>0</th>\n",
       "      <td>A2IBPI20UZIR0U</td>\n",
       "      <td>1384719342</td>\n",
       "      <td>cassandra tu \"Yeah, well, that's just like, u...</td>\n",
       "      <td>[0, 0]</td>\n",
       "      <td>Not much to write about here, but it does exac...</td>\n",
       "      <td>5.0</td>\n",
       "      <td>good</td>\n",
       "      <td>1393545600</td>\n",
       "      <td>02 28, 2014</td>\n",
       "    </tr>\n",
       "    <tr>\n",
       "      <th>1</th>\n",
       "      <td>A14VAT5EAX3D9S</td>\n",
       "      <td>1384719342</td>\n",
       "      <td>Jake</td>\n",
       "      <td>[13, 14]</td>\n",
       "      <td>The product does exactly as it should and is q...</td>\n",
       "      <td>5.0</td>\n",
       "      <td>Jake</td>\n",
       "      <td>1363392000</td>\n",
       "      <td>03 16, 2013</td>\n",
       "    </tr>\n",
       "    <tr>\n",
       "      <th>2</th>\n",
       "      <td>A195EZSQDW3E21</td>\n",
       "      <td>1384719342</td>\n",
       "      <td>Rick Bennette \"Rick Bennette\"</td>\n",
       "      <td>[1, 1]</td>\n",
       "      <td>The primary job of this device is to block the...</td>\n",
       "      <td>5.0</td>\n",
       "      <td>It Does The Job Well</td>\n",
       "      <td>1377648000</td>\n",
       "      <td>08 28, 2013</td>\n",
       "    </tr>\n",
       "    <tr>\n",
       "      <th>3</th>\n",
       "      <td>A2C00NNG1ZQQG2</td>\n",
       "      <td>1384719342</td>\n",
       "      <td>RustyBill \"Sunday Rocker\"</td>\n",
       "      <td>[0, 0]</td>\n",
       "      <td>Nice windscreen protects my MXL mic and preven...</td>\n",
       "      <td>5.0</td>\n",
       "      <td>GOOD WINDSCREEN FOR THE MONEY</td>\n",
       "      <td>1392336000</td>\n",
       "      <td>02 14, 2014</td>\n",
       "    </tr>\n",
       "    <tr>\n",
       "      <th>4</th>\n",
       "      <td>A94QU4C90B1AX</td>\n",
       "      <td>1384719342</td>\n",
       "      <td>SEAN MASLANKA</td>\n",
       "      <td>[0, 0]</td>\n",
       "      <td>This pop filter is great. It looks and perform...</td>\n",
       "      <td>5.0</td>\n",
       "      <td>No more pops when I record my vocals.</td>\n",
       "      <td>1392940800</td>\n",
       "      <td>02 21, 2014</td>\n",
       "    </tr>\n",
       "  </tbody>\n",
       "</table>\n",
       "</div>"
      ],
      "text/plain": [
       "       reviewerID        asin  \\\n",
       "0  A2IBPI20UZIR0U  1384719342   \n",
       "1  A14VAT5EAX3D9S  1384719342   \n",
       "2  A195EZSQDW3E21  1384719342   \n",
       "3  A2C00NNG1ZQQG2  1384719342   \n",
       "4   A94QU4C90B1AX  1384719342   \n",
       "\n",
       "                                       reviewerName   helpful  \\\n",
       "0  cassandra tu \"Yeah, well, that's just like, u...    [0, 0]   \n",
       "1                                              Jake  [13, 14]   \n",
       "2                     Rick Bennette \"Rick Bennette\"    [1, 1]   \n",
       "3                         RustyBill \"Sunday Rocker\"    [0, 0]   \n",
       "4                                     SEAN MASLANKA    [0, 0]   \n",
       "\n",
       "                                          reviewText  overall  \\\n",
       "0  Not much to write about here, but it does exac...      5.0   \n",
       "1  The product does exactly as it should and is q...      5.0   \n",
       "2  The primary job of this device is to block the...      5.0   \n",
       "3  Nice windscreen protects my MXL mic and preven...      5.0   \n",
       "4  This pop filter is great. It looks and perform...      5.0   \n",
       "\n",
       "                                 summary  unixReviewTime   reviewTime  \n",
       "0                                   good      1393545600  02 28, 2014  \n",
       "1                                   Jake      1363392000  03 16, 2013  \n",
       "2                   It Does The Job Well      1377648000  08 28, 2013  \n",
       "3          GOOD WINDSCREEN FOR THE MONEY      1392336000  02 14, 2014  \n",
       "4  No more pops when I record my vocals.      1392940800  02 21, 2014  "
      ]
     },
     "execution_count": 6,
     "metadata": {},
     "output_type": "execute_result"
    }
   ],
   "source": [
    "# データの読み込み\n",
    "df = pd.read_csv(\"Musical_instruments_reviews.csv\")\n",
    "df.head()"
   ]
  },
  {
   "cell_type": "code",
   "execution_count": 7,
   "metadata": {},
   "outputs": [
    {
     "data": {
      "text/plain": [
       "reviewerID         0\n",
       "asin               0\n",
       "reviewerName      27\n",
       "helpful            0\n",
       "reviewText         7\n",
       "overall            0\n",
       "summary            0\n",
       "unixReviewTime     0\n",
       "reviewTime         0\n",
       "dtype: int64"
      ]
     },
     "execution_count": 7,
     "metadata": {},
     "output_type": "execute_result"
    }
   ],
   "source": [
    "# null値の確認\n",
    "df.isnull().sum()"
   ]
  },
  {
   "cell_type": "code",
   "execution_count": 8,
   "metadata": {},
   "outputs": [
    {
     "data": {
      "text/plain": [
       "reviewerID         object\n",
       "asin               object\n",
       "reviewerName       object\n",
       "helpful            object\n",
       "reviewText         object\n",
       "overall           float64\n",
       "summary            object\n",
       "unixReviewTime      int64\n",
       "reviewTime         object\n",
       "dtype: object"
      ]
     },
     "execution_count": 8,
     "metadata": {},
     "output_type": "execute_result"
    }
   ],
   "source": [
    "# データ型の確認\n",
    "df.dtypes"
   ]
  },
  {
   "cell_type": "code",
   "execution_count": 9,
   "metadata": {},
   "outputs": [
    {
     "data": {
      "text/html": [
       "<div>\n",
       "<style scoped>\n",
       "    .dataframe tbody tr th:only-of-type {\n",
       "        vertical-align: middle;\n",
       "    }\n",
       "\n",
       "    .dataframe tbody tr th {\n",
       "        vertical-align: top;\n",
       "    }\n",
       "\n",
       "    .dataframe thead th {\n",
       "        text-align: right;\n",
       "    }\n",
       "</style>\n",
       "<table border=\"1\" class=\"dataframe\">\n",
       "  <thead>\n",
       "    <tr style=\"text-align: right;\">\n",
       "      <th></th>\n",
       "      <th>reviewerID</th>\n",
       "      <th>asin</th>\n",
       "      <th>reviewerName</th>\n",
       "      <th>helpful</th>\n",
       "      <th>reviewText</th>\n",
       "      <th>overall</th>\n",
       "      <th>summary</th>\n",
       "      <th>unixReviewTime</th>\n",
       "      <th>reviewTime</th>\n",
       "    </tr>\n",
       "  </thead>\n",
       "  <tbody>\n",
       "    <tr>\n",
       "      <th>2927</th>\n",
       "      <td>AF7AQHLX1UV1Z</td>\n",
       "      <td>B0002H0H4A</td>\n",
       "      <td>Smoothbassman</td>\n",
       "      <td>[101, 105]</td>\n",
       "      <td>NaN</td>\n",
       "      <td>5.0</td>\n",
       "      <td>The Pop Rocks with the Yeti</td>\n",
       "      <td>1342656000</td>\n",
       "      <td>07 19, 2012</td>\n",
       "    </tr>\n",
       "    <tr>\n",
       "      <th>4401</th>\n",
       "      <td>AU3GYRAKBUAEU</td>\n",
       "      <td>B000CD1R7K</td>\n",
       "      <td>Jon Norris</td>\n",
       "      <td>[189, 192]</td>\n",
       "      <td>NaN</td>\n",
       "      <td>4.0</td>\n",
       "      <td>great foot rest</td>\n",
       "      <td>1258416000</td>\n",
       "      <td>11 17, 2009</td>\n",
       "    </tr>\n",
       "    <tr>\n",
       "      <th>8739</th>\n",
       "      <td>A3N93PUHEMQU34</td>\n",
       "      <td>B004OU2IQG</td>\n",
       "      <td>L. Su \"Flying train\"</td>\n",
       "      <td>[3, 3]</td>\n",
       "      <td>NaN</td>\n",
       "      <td>5.0</td>\n",
       "      <td>To make you sound like a pro</td>\n",
       "      <td>1388102400</td>\n",
       "      <td>12 27, 2013</td>\n",
       "    </tr>\n",
       "    <tr>\n",
       "      <th>9175</th>\n",
       "      <td>AMEZJVXMSEPY0</td>\n",
       "      <td>B005FKF1PY</td>\n",
       "      <td>M. Luke</td>\n",
       "      <td>[1, 1]</td>\n",
       "      <td>NaN</td>\n",
       "      <td>5.0</td>\n",
       "      <td>Mini tech for musicians</td>\n",
       "      <td>1319500800</td>\n",
       "      <td>10 25, 2011</td>\n",
       "    </tr>\n",
       "    <tr>\n",
       "      <th>9306</th>\n",
       "      <td>A3ABAA36CZVYNX</td>\n",
       "      <td>B005M0TKL8</td>\n",
       "      <td>Dave</td>\n",
       "      <td>[31, 32]</td>\n",
       "      <td>NaN</td>\n",
       "      <td>5.0</td>\n",
       "      <td>No power = No Sound, But It Sounds GREAT!</td>\n",
       "      <td>1342569600</td>\n",
       "      <td>07 18, 2012</td>\n",
       "    </tr>\n",
       "    <tr>\n",
       "      <th>9313</th>\n",
       "      <td>A3OEBPVLF35YQL</td>\n",
       "      <td>B005M0TKL8</td>\n",
       "      <td>StratDude</td>\n",
       "      <td>[20, 21]</td>\n",
       "      <td>NaN</td>\n",
       "      <td>5.0</td>\n",
       "      <td>This would be a must-have at twice the price.</td>\n",
       "      <td>1350172800</td>\n",
       "      <td>10 14, 2012</td>\n",
       "    </tr>\n",
       "    <tr>\n",
       "      <th>9342</th>\n",
       "      <td>A3OA4DV4L81N1D</td>\n",
       "      <td>B005NACC6M</td>\n",
       "      <td>P.K. Frary \"Gochugogi\"</td>\n",
       "      <td>[4, 4]</td>\n",
       "      <td>NaN</td>\n",
       "      <td>5.0</td>\n",
       "      <td>Great sound and features for the price!</td>\n",
       "      <td>1387411200</td>\n",
       "      <td>12 19, 2013</td>\n",
       "    </tr>\n",
       "  </tbody>\n",
       "</table>\n",
       "</div>"
      ],
      "text/plain": [
       "          reviewerID        asin            reviewerName     helpful  \\\n",
       "2927   AF7AQHLX1UV1Z  B0002H0H4A           Smoothbassman  [101, 105]   \n",
       "4401   AU3GYRAKBUAEU  B000CD1R7K              Jon Norris  [189, 192]   \n",
       "8739  A3N93PUHEMQU34  B004OU2IQG    L. Su \"Flying train\"      [3, 3]   \n",
       "9175   AMEZJVXMSEPY0  B005FKF1PY                 M. Luke      [1, 1]   \n",
       "9306  A3ABAA36CZVYNX  B005M0TKL8                    Dave    [31, 32]   \n",
       "9313  A3OEBPVLF35YQL  B005M0TKL8               StratDude    [20, 21]   \n",
       "9342  A3OA4DV4L81N1D  B005NACC6M  P.K. Frary \"Gochugogi\"      [4, 4]   \n",
       "\n",
       "     reviewText  overall                                        summary  \\\n",
       "2927        NaN      5.0                    The Pop Rocks with the Yeti   \n",
       "4401        NaN      4.0                                great foot rest   \n",
       "8739        NaN      5.0                   To make you sound like a pro   \n",
       "9175        NaN      5.0                        Mini tech for musicians   \n",
       "9306        NaN      5.0      No power = No Sound, But It Sounds GREAT!   \n",
       "9313        NaN      5.0  This would be a must-have at twice the price.   \n",
       "9342        NaN      5.0        Great sound and features for the price!   \n",
       "\n",
       "      unixReviewTime   reviewTime  \n",
       "2927      1342656000  07 19, 2012  \n",
       "4401      1258416000  11 17, 2009  \n",
       "8739      1388102400  12 27, 2013  \n",
       "9175      1319500800  10 25, 2011  \n",
       "9306      1342569600  07 18, 2012  \n",
       "9313      1350172800  10 14, 2012  \n",
       "9342      1387411200  12 19, 2013  "
      ]
     },
     "execution_count": 9,
     "metadata": {},
     "output_type": "execute_result"
    }
   ],
   "source": [
    "# reviewTextのnull値を確認\n",
    "df[df[\"reviewText\"].isnull()]"
   ]
  },
  {
   "cell_type": "code",
   "execution_count": 10,
   "metadata": {},
   "outputs": [],
   "source": [
    "# null値を''で埋める\n",
    "df[\"reviewText\"] = df[\"reviewText\"].fillna('')"
   ]
  },
  {
   "cell_type": "code",
   "execution_count": 12,
   "metadata": {},
   "outputs": [
    {
     "data": {
      "text/plain": [
       "reviewerID         0\n",
       "asin               0\n",
       "reviewerName      27\n",
       "helpful            0\n",
       "reviewText         0\n",
       "overall            0\n",
       "summary            0\n",
       "unixReviewTime     0\n",
       "reviewTime         0\n",
       "dtype: int64"
      ]
     },
     "execution_count": 12,
     "metadata": {},
     "output_type": "execute_result"
    }
   ],
   "source": [
    "# null値の再確認\n",
    "df.isnull().sum()"
   ]
  },
  {
   "cell_type": "markdown",
   "metadata": {},
   "source": [
    "## 絵文字・url・html・改行・半角スペース・全角スペースが２つ以上連続で含まれている可能性があるので削除する"
   ]
  },
  {
   "cell_type": "markdown",
   "metadata": {},
   "source": [
    "## reviewTextに適用"
   ]
  },
  {
   "cell_type": "code",
   "execution_count": 14,
   "metadata": {},
   "outputs": [],
   "source": [
    "def clean_text(text):\n",
    "  \"\"\"\n",
    "  text内のURL、HTMLタグ、絵文字、改行を削除する関数\n",
    "\n",
    "  Args:\n",
    "    text (str): 処理対象のテキスト\n",
    "\n",
    "  Returns:\n",
    "    str: クリーニング後のテキスト\n",
    "  \"\"\"\n",
    "\n",
    "  # URLの削除\n",
    "  text = re.sub(r\"https?://[\\w/:%#.\\-~?\\=]+\", \"\", text)\n",
    "\n",
    "  # HTMLタグの削除\n",
    "  text = re.sub(r\"<[^>]+>\", \"\", text)\n",
    "\n",
    "  # 絵文字の削除\n",
    "  text = re.sub(r\"[^\\w\\s]\", \"\", text)\n",
    "\n",
    "  # 改行の削除\n",
    "  text = re.sub(r\"\\n\", \"\", text)\n",
    "\n",
    "  return text"
   ]
  },
  {
   "cell_type": "code",
   "execution_count": 15,
   "metadata": {},
   "outputs": [],
   "source": [
    "# reviewTextカラムの各行に対して処理を実行\n",
    "for i in range(len(df)):\n",
    "  df.at[i, 'reviewText'] = clean_text(df.at[i, 'reviewText'])"
   ]
  },
  {
   "cell_type": "code",
   "execution_count": 16,
   "metadata": {},
   "outputs": [
    {
     "data": {
      "text/plain": [
       "0        Not much to write about here but it does exact...\n",
       "1        The product does exactly as it should and is q...\n",
       "2        The primary job of this device is to block the...\n",
       "3        Nice windscreen protects my MXL mic and preven...\n",
       "4        This pop filter is great It looks and performs...\n",
       "                               ...                        \n",
       "10256                 Great just as expected  Thank to all\n",
       "10257    Ive been thinking about trying the Nanoweb str...\n",
       "10258    I have tried coated strings in the past  inclu...\n",
       "10259    Well MADE by Elixir and DEVELOPED with Taylor ...\n",
       "10260    These strings are really quite good but I woul...\n",
       "Name: reviewText, Length: 10261, dtype: object"
      ]
     },
     "execution_count": 16,
     "metadata": {},
     "output_type": "execute_result"
    }
   ],
   "source": [
    "df[\"reviewText\"]"
   ]
  },
  {
   "cell_type": "code",
   "execution_count": 23,
   "metadata": {},
   "outputs": [],
   "source": [
    "def remove_extra_spaces(text):\n",
    "  \"\"\"\n",
    "  textの文頭・文末および文章中の不要なスペースを削除する関数\n",
    "\n",
    "  Args:\n",
    "    text (str): 処理対象のテキスト\n",
    "\n",
    "  Returns:\n",
    "    str: クリーニング後のテキスト\n",
    "  \"\"\"\n",
    "  # 全角スペースを含む空白文字を1個の半角スペースに置換\n",
    "  text = re.sub(r\"\\s+\", \" \", text)\n",
    "\n",
    "  # 文頭のスペースを削除\n",
    "  text = re.sub(r\"^\\s+\", \"\", text)\n",
    "\n",
    "  # 文末のスペースを削除\n",
    "  text = re.sub(r\"\\s+$\", \"\", text)\n",
    "\n",
    "  return text"
   ]
  },
  {
   "cell_type": "code",
   "execution_count": 24,
   "metadata": {},
   "outputs": [],
   "source": [
    "# reviewTextカラムの各行に対して処理を実行\n",
    "for i in range(len(df)):\n",
    "  df.at[i, 'reviewText'] = remove_extra_spaces(df.at[i, 'reviewText'])"
   ]
  },
  {
   "cell_type": "code",
   "execution_count": 25,
   "metadata": {},
   "outputs": [
    {
     "data": {
      "text/plain": [
       "0        Not much to write about here but it does exact...\n",
       "1        The product does exactly as it should and is q...\n",
       "2        The primary job of this device is to block the...\n",
       "3        Nice windscreen protects my MXL mic and preven...\n",
       "4        This pop filter is great It looks and performs...\n",
       "                               ...                        \n",
       "10256                  Great just as expected Thank to all\n",
       "10257    Ive been thinking about trying the Nanoweb str...\n",
       "10258    I have tried coated strings in the past includ...\n",
       "10259    Well MADE by Elixir and DEVELOPED with Taylor ...\n",
       "10260    These strings are really quite good but I woul...\n",
       "Name: reviewText, Length: 10261, dtype: object"
      ]
     },
     "execution_count": 25,
     "metadata": {},
     "output_type": "execute_result"
    }
   ],
   "source": [
    "df[\"reviewText\"]"
   ]
  },
  {
   "cell_type": "markdown",
   "metadata": {},
   "source": [
    "## summaryに適用"
   ]
  },
  {
   "cell_type": "code",
   "execution_count": 27,
   "metadata": {},
   "outputs": [
    {
     "data": {
      "text/plain": [
       "0                                                     good\n",
       "1                                                     Jake\n",
       "2                                     It Does The Job Well\n",
       "3                            GOOD WINDSCREEN FOR THE MONEY\n",
       "4                    No more pops when I record my vocals.\n",
       "                               ...                        \n",
       "10256                                           Five Stars\n",
       "10257    Long life, and for some players, a good econom...\n",
       "10258                                     Good for coated.\n",
       "10259                                          Taylor Made\n",
       "10260    These strings are really quite good, but I wou...\n",
       "Name: summary, Length: 10261, dtype: object"
      ]
     },
     "execution_count": 27,
     "metadata": {},
     "output_type": "execute_result"
    }
   ],
   "source": [
    "df[\"summary\"]"
   ]
  },
  {
   "cell_type": "code",
   "execution_count": 28,
   "metadata": {},
   "outputs": [],
   "source": [
    "# summaryカラムの各行に対して処理を実行\n",
    "for i in range(len(df)):\n",
    "  df.at[i, 'summary'] = clean_text(df.at[i, 'summary'])"
   ]
  },
  {
   "cell_type": "code",
   "execution_count": 30,
   "metadata": {},
   "outputs": [],
   "source": [
    "# summaryカラムの各行に対して処理を実行\n",
    "for i in range(len(df)):\n",
    "  df.at[i, 'summary'] = remove_extra_spaces(df.at[i, 'summary'])"
   ]
  },
  {
   "cell_type": "code",
   "execution_count": 31,
   "metadata": {},
   "outputs": [
    {
     "data": {
      "text/plain": [
       "0                                                     good\n",
       "1                                                     Jake\n",
       "2                                     It Does The Job Well\n",
       "3                            GOOD WINDSCREEN FOR THE MONEY\n",
       "4                     No more pops when I record my vocals\n",
       "                               ...                        \n",
       "10256                                           Five Stars\n",
       "10257    Long life and for some players a good economic...\n",
       "10258                                      Good for coated\n",
       "10259                                          Taylor Made\n",
       "10260    These strings are really quite good but I woul...\n",
       "Name: summary, Length: 10261, dtype: object"
      ]
     },
     "execution_count": 31,
     "metadata": {},
     "output_type": "execute_result"
    }
   ],
   "source": [
    "df[\"summary\"]"
   ]
  },
  {
   "cell_type": "markdown",
   "metadata": {},
   "source": [
    "## 不要なカラムを削除する"
   ]
  },
  {
   "cell_type": "code",
   "execution_count": 33,
   "metadata": {},
   "outputs": [
    {
     "data": {
      "text/html": [
       "<div>\n",
       "<style scoped>\n",
       "    .dataframe tbody tr th:only-of-type {\n",
       "        vertical-align: middle;\n",
       "    }\n",
       "\n",
       "    .dataframe tbody tr th {\n",
       "        vertical-align: top;\n",
       "    }\n",
       "\n",
       "    .dataframe thead th {\n",
       "        text-align: right;\n",
       "    }\n",
       "</style>\n",
       "<table border=\"1\" class=\"dataframe\">\n",
       "  <thead>\n",
       "    <tr style=\"text-align: right;\">\n",
       "      <th></th>\n",
       "      <th>reviewText</th>\n",
       "      <th>overall</th>\n",
       "      <th>summary</th>\n",
       "    </tr>\n",
       "  </thead>\n",
       "  <tbody>\n",
       "    <tr>\n",
       "      <th>0</th>\n",
       "      <td>Not much to write about here but it does exact...</td>\n",
       "      <td>5.0</td>\n",
       "      <td>good</td>\n",
       "    </tr>\n",
       "    <tr>\n",
       "      <th>1</th>\n",
       "      <td>The product does exactly as it should and is q...</td>\n",
       "      <td>5.0</td>\n",
       "      <td>Jake</td>\n",
       "    </tr>\n",
       "    <tr>\n",
       "      <th>2</th>\n",
       "      <td>The primary job of this device is to block the...</td>\n",
       "      <td>5.0</td>\n",
       "      <td>It Does The Job Well</td>\n",
       "    </tr>\n",
       "    <tr>\n",
       "      <th>3</th>\n",
       "      <td>Nice windscreen protects my MXL mic and preven...</td>\n",
       "      <td>5.0</td>\n",
       "      <td>GOOD WINDSCREEN FOR THE MONEY</td>\n",
       "    </tr>\n",
       "    <tr>\n",
       "      <th>4</th>\n",
       "      <td>This pop filter is great It looks and performs...</td>\n",
       "      <td>5.0</td>\n",
       "      <td>No more pops when I record my vocals</td>\n",
       "    </tr>\n",
       "    <tr>\n",
       "      <th>...</th>\n",
       "      <td>...</td>\n",
       "      <td>...</td>\n",
       "      <td>...</td>\n",
       "    </tr>\n",
       "    <tr>\n",
       "      <th>10256</th>\n",
       "      <td>Great just as expected Thank to all</td>\n",
       "      <td>5.0</td>\n",
       "      <td>Five Stars</td>\n",
       "    </tr>\n",
       "    <tr>\n",
       "      <th>10257</th>\n",
       "      <td>Ive been thinking about trying the Nanoweb str...</td>\n",
       "      <td>5.0</td>\n",
       "      <td>Long life and for some players a good economic...</td>\n",
       "    </tr>\n",
       "    <tr>\n",
       "      <th>10258</th>\n",
       "      <td>I have tried coated strings in the past includ...</td>\n",
       "      <td>4.0</td>\n",
       "      <td>Good for coated</td>\n",
       "    </tr>\n",
       "    <tr>\n",
       "      <th>10259</th>\n",
       "      <td>Well MADE by Elixir and DEVELOPED with Taylor ...</td>\n",
       "      <td>4.0</td>\n",
       "      <td>Taylor Made</td>\n",
       "    </tr>\n",
       "    <tr>\n",
       "      <th>10260</th>\n",
       "      <td>These strings are really quite good but I woul...</td>\n",
       "      <td>4.0</td>\n",
       "      <td>These strings are really quite good but I woul...</td>\n",
       "    </tr>\n",
       "  </tbody>\n",
       "</table>\n",
       "<p>10261 rows × 3 columns</p>\n",
       "</div>"
      ],
      "text/plain": [
       "                                              reviewText  overall  \\\n",
       "0      Not much to write about here but it does exact...      5.0   \n",
       "1      The product does exactly as it should and is q...      5.0   \n",
       "2      The primary job of this device is to block the...      5.0   \n",
       "3      Nice windscreen protects my MXL mic and preven...      5.0   \n",
       "4      This pop filter is great It looks and performs...      5.0   \n",
       "...                                                  ...      ...   \n",
       "10256                Great just as expected Thank to all      5.0   \n",
       "10257  Ive been thinking about trying the Nanoweb str...      5.0   \n",
       "10258  I have tried coated strings in the past includ...      4.0   \n",
       "10259  Well MADE by Elixir and DEVELOPED with Taylor ...      4.0   \n",
       "10260  These strings are really quite good but I woul...      4.0   \n",
       "\n",
       "                                                 summary  \n",
       "0                                                   good  \n",
       "1                                                   Jake  \n",
       "2                                   It Does The Job Well  \n",
       "3                          GOOD WINDSCREEN FOR THE MONEY  \n",
       "4                   No more pops when I record my vocals  \n",
       "...                                                  ...  \n",
       "10256                                         Five Stars  \n",
       "10257  Long life and for some players a good economic...  \n",
       "10258                                    Good for coated  \n",
       "10259                                        Taylor Made  \n",
       "10260  These strings are really quite good but I woul...  \n",
       "\n",
       "[10261 rows x 3 columns]"
      ]
     },
     "execution_count": 33,
     "metadata": {},
     "output_type": "execute_result"
    }
   ],
   "source": [
    "drop_col = ['reviewerID', 'asin', 'reviewerName', 'helpful', 'unixReviewTime', 'reviewTime']\n",
    "df = df.drop(columns=drop_col)\n",
    "df"
   ]
  },
  {
   "cell_type": "code",
   "execution_count": 34,
   "metadata": {},
   "outputs": [
    {
     "data": {
      "text/html": [
       "<div>\n",
       "<style scoped>\n",
       "    .dataframe tbody tr th:only-of-type {\n",
       "        vertical-align: middle;\n",
       "    }\n",
       "\n",
       "    .dataframe tbody tr th {\n",
       "        vertical-align: top;\n",
       "    }\n",
       "\n",
       "    .dataframe thead th {\n",
       "        text-align: right;\n",
       "    }\n",
       "</style>\n",
       "<table border=\"1\" class=\"dataframe\">\n",
       "  <thead>\n",
       "    <tr style=\"text-align: right;\">\n",
       "      <th></th>\n",
       "      <th>reviewText</th>\n",
       "      <th>overall</th>\n",
       "      <th>summary</th>\n",
       "      <th>text</th>\n",
       "    </tr>\n",
       "  </thead>\n",
       "  <tbody>\n",
       "    <tr>\n",
       "      <th>0</th>\n",
       "      <td>Not much to write about here but it does exact...</td>\n",
       "      <td>5.0</td>\n",
       "      <td>good</td>\n",
       "      <td>Not much to write about here but it does exact...</td>\n",
       "    </tr>\n",
       "    <tr>\n",
       "      <th>1</th>\n",
       "      <td>The product does exactly as it should and is q...</td>\n",
       "      <td>5.0</td>\n",
       "      <td>Jake</td>\n",
       "      <td>The product does exactly as it should and is q...</td>\n",
       "    </tr>\n",
       "    <tr>\n",
       "      <th>2</th>\n",
       "      <td>The primary job of this device is to block the...</td>\n",
       "      <td>5.0</td>\n",
       "      <td>It Does The Job Well</td>\n",
       "      <td>The primary job of this device is to block the...</td>\n",
       "    </tr>\n",
       "    <tr>\n",
       "      <th>3</th>\n",
       "      <td>Nice windscreen protects my MXL mic and preven...</td>\n",
       "      <td>5.0</td>\n",
       "      <td>GOOD WINDSCREEN FOR THE MONEY</td>\n",
       "      <td>Nice windscreen protects my MXL mic and preven...</td>\n",
       "    </tr>\n",
       "    <tr>\n",
       "      <th>4</th>\n",
       "      <td>This pop filter is great It looks and performs...</td>\n",
       "      <td>5.0</td>\n",
       "      <td>No more pops when I record my vocals</td>\n",
       "      <td>This pop filter is great It looks and performs...</td>\n",
       "    </tr>\n",
       "    <tr>\n",
       "      <th>...</th>\n",
       "      <td>...</td>\n",
       "      <td>...</td>\n",
       "      <td>...</td>\n",
       "      <td>...</td>\n",
       "    </tr>\n",
       "    <tr>\n",
       "      <th>10256</th>\n",
       "      <td>Great just as expected Thank to all</td>\n",
       "      <td>5.0</td>\n",
       "      <td>Five Stars</td>\n",
       "      <td>Great just as expected Thank to all Five Stars</td>\n",
       "    </tr>\n",
       "    <tr>\n",
       "      <th>10257</th>\n",
       "      <td>Ive been thinking about trying the Nanoweb str...</td>\n",
       "      <td>5.0</td>\n",
       "      <td>Long life and for some players a good economic...</td>\n",
       "      <td>Ive been thinking about trying the Nanoweb str...</td>\n",
       "    </tr>\n",
       "    <tr>\n",
       "      <th>10258</th>\n",
       "      <td>I have tried coated strings in the past includ...</td>\n",
       "      <td>4.0</td>\n",
       "      <td>Good for coated</td>\n",
       "      <td>I have tried coated strings in the past includ...</td>\n",
       "    </tr>\n",
       "    <tr>\n",
       "      <th>10259</th>\n",
       "      <td>Well MADE by Elixir and DEVELOPED with Taylor ...</td>\n",
       "      <td>4.0</td>\n",
       "      <td>Taylor Made</td>\n",
       "      <td>Well MADE by Elixir and DEVELOPED with Taylor ...</td>\n",
       "    </tr>\n",
       "    <tr>\n",
       "      <th>10260</th>\n",
       "      <td>These strings are really quite good but I woul...</td>\n",
       "      <td>4.0</td>\n",
       "      <td>These strings are really quite good but I woul...</td>\n",
       "      <td>These strings are really quite good but I woul...</td>\n",
       "    </tr>\n",
       "  </tbody>\n",
       "</table>\n",
       "<p>10261 rows × 4 columns</p>\n",
       "</div>"
      ],
      "text/plain": [
       "                                              reviewText  overall  \\\n",
       "0      Not much to write about here but it does exact...      5.0   \n",
       "1      The product does exactly as it should and is q...      5.0   \n",
       "2      The primary job of this device is to block the...      5.0   \n",
       "3      Nice windscreen protects my MXL mic and preven...      5.0   \n",
       "4      This pop filter is great It looks and performs...      5.0   \n",
       "...                                                  ...      ...   \n",
       "10256                Great just as expected Thank to all      5.0   \n",
       "10257  Ive been thinking about trying the Nanoweb str...      5.0   \n",
       "10258  I have tried coated strings in the past includ...      4.0   \n",
       "10259  Well MADE by Elixir and DEVELOPED with Taylor ...      4.0   \n",
       "10260  These strings are really quite good but I woul...      4.0   \n",
       "\n",
       "                                                 summary  \\\n",
       "0                                                   good   \n",
       "1                                                   Jake   \n",
       "2                                   It Does The Job Well   \n",
       "3                          GOOD WINDSCREEN FOR THE MONEY   \n",
       "4                   No more pops when I record my vocals   \n",
       "...                                                  ...   \n",
       "10256                                         Five Stars   \n",
       "10257  Long life and for some players a good economic...   \n",
       "10258                                    Good for coated   \n",
       "10259                                        Taylor Made   \n",
       "10260  These strings are really quite good but I woul...   \n",
       "\n",
       "                                                    text  \n",
       "0      Not much to write about here but it does exact...  \n",
       "1      The product does exactly as it should and is q...  \n",
       "2      The primary job of this device is to block the...  \n",
       "3      Nice windscreen protects my MXL mic and preven...  \n",
       "4      This pop filter is great It looks and performs...  \n",
       "...                                                  ...  \n",
       "10256     Great just as expected Thank to all Five Stars  \n",
       "10257  Ive been thinking about trying the Nanoweb str...  \n",
       "10258  I have tried coated strings in the past includ...  \n",
       "10259  Well MADE by Elixir and DEVELOPED with Taylor ...  \n",
       "10260  These strings are really quite good but I woul...  \n",
       "\n",
       "[10261 rows x 4 columns]"
      ]
     },
     "execution_count": 34,
     "metadata": {},
     "output_type": "execute_result"
    }
   ],
   "source": [
    "# reviewTextとsummaryを半角スペースでつなげてtextとする\n",
    "df[\"text\"] = df[\"reviewText\"] + ' ' + df[\"summary\"]\n",
    "df"
   ]
  },
  {
   "cell_type": "code",
   "execution_count": 35,
   "metadata": {},
   "outputs": [
    {
     "data": {
      "text/html": [
       "<div>\n",
       "<style scoped>\n",
       "    .dataframe tbody tr th:only-of-type {\n",
       "        vertical-align: middle;\n",
       "    }\n",
       "\n",
       "    .dataframe tbody tr th {\n",
       "        vertical-align: top;\n",
       "    }\n",
       "\n",
       "    .dataframe thead th {\n",
       "        text-align: right;\n",
       "    }\n",
       "</style>\n",
       "<table border=\"1\" class=\"dataframe\">\n",
       "  <thead>\n",
       "    <tr style=\"text-align: right;\">\n",
       "      <th></th>\n",
       "      <th>overall</th>\n",
       "      <th>text</th>\n",
       "    </tr>\n",
       "  </thead>\n",
       "  <tbody>\n",
       "    <tr>\n",
       "      <th>0</th>\n",
       "      <td>5.0</td>\n",
       "      <td>Not much to write about here but it does exact...</td>\n",
       "    </tr>\n",
       "    <tr>\n",
       "      <th>1</th>\n",
       "      <td>5.0</td>\n",
       "      <td>The product does exactly as it should and is q...</td>\n",
       "    </tr>\n",
       "    <tr>\n",
       "      <th>2</th>\n",
       "      <td>5.0</td>\n",
       "      <td>The primary job of this device is to block the...</td>\n",
       "    </tr>\n",
       "    <tr>\n",
       "      <th>3</th>\n",
       "      <td>5.0</td>\n",
       "      <td>Nice windscreen protects my MXL mic and preven...</td>\n",
       "    </tr>\n",
       "    <tr>\n",
       "      <th>4</th>\n",
       "      <td>5.0</td>\n",
       "      <td>This pop filter is great It looks and performs...</td>\n",
       "    </tr>\n",
       "    <tr>\n",
       "      <th>...</th>\n",
       "      <td>...</td>\n",
       "      <td>...</td>\n",
       "    </tr>\n",
       "    <tr>\n",
       "      <th>10256</th>\n",
       "      <td>5.0</td>\n",
       "      <td>Great just as expected Thank to all Five Stars</td>\n",
       "    </tr>\n",
       "    <tr>\n",
       "      <th>10257</th>\n",
       "      <td>5.0</td>\n",
       "      <td>Ive been thinking about trying the Nanoweb str...</td>\n",
       "    </tr>\n",
       "    <tr>\n",
       "      <th>10258</th>\n",
       "      <td>4.0</td>\n",
       "      <td>I have tried coated strings in the past includ...</td>\n",
       "    </tr>\n",
       "    <tr>\n",
       "      <th>10259</th>\n",
       "      <td>4.0</td>\n",
       "      <td>Well MADE by Elixir and DEVELOPED with Taylor ...</td>\n",
       "    </tr>\n",
       "    <tr>\n",
       "      <th>10260</th>\n",
       "      <td>4.0</td>\n",
       "      <td>These strings are really quite good but I woul...</td>\n",
       "    </tr>\n",
       "  </tbody>\n",
       "</table>\n",
       "<p>10261 rows × 2 columns</p>\n",
       "</div>"
      ],
      "text/plain": [
       "       overall                                               text\n",
       "0          5.0  Not much to write about here but it does exact...\n",
       "1          5.0  The product does exactly as it should and is q...\n",
       "2          5.0  The primary job of this device is to block the...\n",
       "3          5.0  Nice windscreen protects my MXL mic and preven...\n",
       "4          5.0  This pop filter is great It looks and performs...\n",
       "...        ...                                                ...\n",
       "10256      5.0     Great just as expected Thank to all Five Stars\n",
       "10257      5.0  Ive been thinking about trying the Nanoweb str...\n",
       "10258      4.0  I have tried coated strings in the past includ...\n",
       "10259      4.0  Well MADE by Elixir and DEVELOPED with Taylor ...\n",
       "10260      4.0  These strings are really quite good but I woul...\n",
       "\n",
       "[10261 rows x 2 columns]"
      ]
     },
     "execution_count": 35,
     "metadata": {},
     "output_type": "execute_result"
    }
   ],
   "source": [
    "# reviewTextとsummaryは削除する\n",
    "df.drop(columns=[\"reviewText\", \"summary\"], inplace=True)\n",
    "df"
   ]
  },
  {
   "cell_type": "code",
   "execution_count": 36,
   "metadata": {},
   "outputs": [
    {
     "data": {
      "text/plain": [
       "array([5., 3., 4., 2., 1.])"
      ]
     },
     "execution_count": 36,
     "metadata": {},
     "output_type": "execute_result"
    }
   ],
   "source": [
    "df[\"overall\"].unique()"
   ]
  },
  {
   "cell_type": "code",
   "execution_count": 37,
   "metadata": {},
   "outputs": [],
   "source": [
    "# 1, 2・・negative\n",
    "# 3・・・ neutral\n",
    "# 4, 5をpositiveとする\n",
    "\n",
    "def assign_label(overall):\n",
    "  \"\"\"\n",
    "  overall値に基づいてラベルを割り当てる関数\n",
    "\n",
    "  Args:\n",
    "    overall (float): overall値\n",
    "\n",
    "  Returns:\n",
    "    str: ラベル\n",
    "  \"\"\"\n",
    "  if overall >= 4.0:\n",
    "    return \"positive\"\n",
    "  elif overall == 3.0:\n",
    "    return \"neutral\"\n",
    "  else:\n",
    "    return \"negative\""
   ]
  },
  {
   "cell_type": "code",
   "execution_count": 38,
   "metadata": {},
   "outputs": [],
   "source": [
    "df[\"label\"] = df[\"overall\"].apply(assign_label)"
   ]
  },
  {
   "cell_type": "code",
   "execution_count": 40,
   "metadata": {},
   "outputs": [],
   "source": [
    "df.drop(columns=[\"overall\"], inplace=True)"
   ]
  },
  {
   "cell_type": "code",
   "execution_count": 41,
   "metadata": {},
   "outputs": [
    {
     "data": {
      "text/html": [
       "<div>\n",
       "<style scoped>\n",
       "    .dataframe tbody tr th:only-of-type {\n",
       "        vertical-align: middle;\n",
       "    }\n",
       "\n",
       "    .dataframe tbody tr th {\n",
       "        vertical-align: top;\n",
       "    }\n",
       "\n",
       "    .dataframe thead th {\n",
       "        text-align: right;\n",
       "    }\n",
       "</style>\n",
       "<table border=\"1\" class=\"dataframe\">\n",
       "  <thead>\n",
       "    <tr style=\"text-align: right;\">\n",
       "      <th></th>\n",
       "      <th>text</th>\n",
       "      <th>label</th>\n",
       "    </tr>\n",
       "  </thead>\n",
       "  <tbody>\n",
       "    <tr>\n",
       "      <th>0</th>\n",
       "      <td>Not much to write about here but it does exact...</td>\n",
       "      <td>positive</td>\n",
       "    </tr>\n",
       "    <tr>\n",
       "      <th>1</th>\n",
       "      <td>The product does exactly as it should and is q...</td>\n",
       "      <td>positive</td>\n",
       "    </tr>\n",
       "    <tr>\n",
       "      <th>2</th>\n",
       "      <td>The primary job of this device is to block the...</td>\n",
       "      <td>positive</td>\n",
       "    </tr>\n",
       "    <tr>\n",
       "      <th>3</th>\n",
       "      <td>Nice windscreen protects my MXL mic and preven...</td>\n",
       "      <td>positive</td>\n",
       "    </tr>\n",
       "    <tr>\n",
       "      <th>4</th>\n",
       "      <td>This pop filter is great It looks and performs...</td>\n",
       "      <td>positive</td>\n",
       "    </tr>\n",
       "  </tbody>\n",
       "</table>\n",
       "</div>"
      ],
      "text/plain": [
       "                                                text     label\n",
       "0  Not much to write about here but it does exact...  positive\n",
       "1  The product does exactly as it should and is q...  positive\n",
       "2  The primary job of this device is to block the...  positive\n",
       "3  Nice windscreen protects my MXL mic and preven...  positive\n",
       "4  This pop filter is great It looks and performs...  positive"
      ]
     },
     "execution_count": 41,
     "metadata": {},
     "output_type": "execute_result"
    }
   ],
   "source": [
    "df.head()"
   ]
  },
  {
   "cell_type": "markdown",
   "metadata": {},
   "source": [
    "## 訓練データ・検証データ・テストデータを作成"
   ]
  },
  {
   "cell_type": "code",
   "execution_count": 42,
   "metadata": {},
   "outputs": [
    {
     "data": {
      "text/html": [
       "<div>\n",
       "<style scoped>\n",
       "    .dataframe tbody tr th:only-of-type {\n",
       "        vertical-align: middle;\n",
       "    }\n",
       "\n",
       "    .dataframe tbody tr th {\n",
       "        vertical-align: top;\n",
       "    }\n",
       "\n",
       "    .dataframe thead th {\n",
       "        text-align: right;\n",
       "    }\n",
       "</style>\n",
       "<table border=\"1\" class=\"dataframe\">\n",
       "  <thead>\n",
       "    <tr style=\"text-align: right;\">\n",
       "      <th></th>\n",
       "      <th>text</th>\n",
       "      <th>label</th>\n",
       "    </tr>\n",
       "  </thead>\n",
       "  <tbody>\n",
       "    <tr>\n",
       "      <th>9519</th>\n",
       "      <td>Ive tried so many other strings over the years...</td>\n",
       "      <td>positive</td>\n",
       "    </tr>\n",
       "    <tr>\n",
       "      <th>7527</th>\n",
       "      <td>This cuts strings with no problems It doesnt t...</td>\n",
       "      <td>positive</td>\n",
       "    </tr>\n",
       "    <tr>\n",
       "      <th>3784</th>\n",
       "      <td>Probably the best capo I have ever had Its eas...</td>\n",
       "      <td>positive</td>\n",
       "    </tr>\n",
       "    <tr>\n",
       "      <th>8492</th>\n",
       "      <td>im not a profesional player but i like to play...</td>\n",
       "      <td>positive</td>\n",
       "    </tr>\n",
       "    <tr>\n",
       "      <th>1549</th>\n",
       "      <td>These strings are great for a 12 string I star...</td>\n",
       "      <td>positive</td>\n",
       "    </tr>\n",
       "    <tr>\n",
       "      <th>...</th>\n",
       "      <td>...</td>\n",
       "      <td>...</td>\n",
       "    </tr>\n",
       "    <tr>\n",
       "      <th>9017</th>\n",
       "      <td>i use thin picks 38 46 and 50 so this pack get...</td>\n",
       "      <td>neutral</td>\n",
       "    </tr>\n",
       "    <tr>\n",
       "      <th>9976</th>\n",
       "      <td>I had been using a full boom mic stand at my s...</td>\n",
       "      <td>neutral</td>\n",
       "    </tr>\n",
       "    <tr>\n",
       "      <th>1904</th>\n",
       "      <td>I needed a solid throne to replace my IKEA com...</td>\n",
       "      <td>positive</td>\n",
       "    </tr>\n",
       "    <tr>\n",
       "      <th>4021</th>\n",
       "      <td>What can I say about a guitar strap It fits th...</td>\n",
       "      <td>positive</td>\n",
       "    </tr>\n",
       "    <tr>\n",
       "      <th>706</th>\n",
       "      <td>Well constructed with quality woods saddlenut ...</td>\n",
       "      <td>positive</td>\n",
       "    </tr>\n",
       "  </tbody>\n",
       "</table>\n",
       "<p>8208 rows × 2 columns</p>\n",
       "</div>"
      ],
      "text/plain": [
       "                                                   text     label\n",
       "9519  Ive tried so many other strings over the years...  positive\n",
       "7527  This cuts strings with no problems It doesnt t...  positive\n",
       "3784  Probably the best capo I have ever had Its eas...  positive\n",
       "8492  im not a profesional player but i like to play...  positive\n",
       "1549  These strings are great for a 12 string I star...  positive\n",
       "...                                                 ...       ...\n",
       "9017  i use thin picks 38 46 and 50 so this pack get...   neutral\n",
       "9976  I had been using a full boom mic stand at my s...   neutral\n",
       "1904  I needed a solid throne to replace my IKEA com...  positive\n",
       "4021  What can I say about a guitar strap It fits th...  positive\n",
       "706   Well constructed with quality woods saddlenut ...  positive\n",
       "\n",
       "[8208 rows x 2 columns]"
      ]
     },
     "execution_count": 42,
     "metadata": {},
     "output_type": "execute_result"
    }
   ],
   "source": [
    "# dfを訓練データ・テストデータに分割\n",
    "train_data, test_data = train_test_split(df, test_size=0.2, shuffle=True, random_state=0, stratify=df[\"label\"])\n",
    "train_data"
   ]
  },
  {
   "cell_type": "code",
   "execution_count": 43,
   "metadata": {},
   "outputs": [
    {
     "data": {
      "text/html": [
       "<div>\n",
       "<style scoped>\n",
       "    .dataframe tbody tr th:only-of-type {\n",
       "        vertical-align: middle;\n",
       "    }\n",
       "\n",
       "    .dataframe tbody tr th {\n",
       "        vertical-align: top;\n",
       "    }\n",
       "\n",
       "    .dataframe thead th {\n",
       "        text-align: right;\n",
       "    }\n",
       "</style>\n",
       "<table border=\"1\" class=\"dataframe\">\n",
       "  <thead>\n",
       "    <tr style=\"text-align: right;\">\n",
       "      <th></th>\n",
       "      <th>text</th>\n",
       "      <th>label</th>\n",
       "    </tr>\n",
       "  </thead>\n",
       "  <tbody>\n",
       "    <tr>\n",
       "      <th>2163</th>\n",
       "      <td>Ive been using the DAddario strings for about ...</td>\n",
       "      <td>positive</td>\n",
       "    </tr>\n",
       "    <tr>\n",
       "      <th>7020</th>\n",
       "      <td>I ordered this product to review for possible ...</td>\n",
       "      <td>positive</td>\n",
       "    </tr>\n",
       "    <tr>\n",
       "      <th>9769</th>\n",
       "      <td>This is a good budget uke Im not a ukulele exp...</td>\n",
       "      <td>positive</td>\n",
       "    </tr>\n",
       "    <tr>\n",
       "      <th>3558</th>\n",
       "      <td>Useful for connecting mics to a guitar amp or ...</td>\n",
       "      <td>positive</td>\n",
       "    </tr>\n",
       "    <tr>\n",
       "      <th>5833</th>\n",
       "      <td>My guitars largely stay at home so they dont r...</td>\n",
       "      <td>positive</td>\n",
       "    </tr>\n",
       "    <tr>\n",
       "      <th>...</th>\n",
       "      <td>...</td>\n",
       "      <td>...</td>\n",
       "    </tr>\n",
       "    <tr>\n",
       "      <th>6260</th>\n",
       "      <td>Great deal for the price and very sturdily mad...</td>\n",
       "      <td>positive</td>\n",
       "    </tr>\n",
       "    <tr>\n",
       "      <th>338</th>\n",
       "      <td>Excellent simple product Fits all of my guitar...</td>\n",
       "      <td>positive</td>\n",
       "    </tr>\n",
       "    <tr>\n",
       "      <th>8056</th>\n",
       "      <td>I have 6 amps One of which is a good tube amp ...</td>\n",
       "      <td>positive</td>\n",
       "    </tr>\n",
       "    <tr>\n",
       "      <th>6622</th>\n",
       "      <td>I originally bought several of these cables to...</td>\n",
       "      <td>positive</td>\n",
       "    </tr>\n",
       "    <tr>\n",
       "      <th>7300</th>\n",
       "      <td>This thing works wonders If you are anyone who...</td>\n",
       "      <td>positive</td>\n",
       "    </tr>\n",
       "  </tbody>\n",
       "</table>\n",
       "<p>1026 rows × 2 columns</p>\n",
       "</div>"
      ],
      "text/plain": [
       "                                                   text     label\n",
       "2163  Ive been using the DAddario strings for about ...  positive\n",
       "7020  I ordered this product to review for possible ...  positive\n",
       "9769  This is a good budget uke Im not a ukulele exp...  positive\n",
       "3558  Useful for connecting mics to a guitar amp or ...  positive\n",
       "5833  My guitars largely stay at home so they dont r...  positive\n",
       "...                                                 ...       ...\n",
       "6260  Great deal for the price and very sturdily mad...  positive\n",
       "338   Excellent simple product Fits all of my guitar...  positive\n",
       "8056  I have 6 amps One of which is a good tube amp ...  positive\n",
       "6622  I originally bought several of these cables to...  positive\n",
       "7300  This thing works wonders If you are anyone who...  positive\n",
       "\n",
       "[1026 rows x 2 columns]"
      ]
     },
     "execution_count": 43,
     "metadata": {},
     "output_type": "execute_result"
    }
   ],
   "source": [
    "# test_dataを検証データ・テストデータに分割\n",
    "valid_data, test_data = train_test_split(test_data, test_size=0.5, random_state=0, stratify=test_data[\"label\"])\n",
    "valid_data"
   ]
  },
  {
   "cell_type": "code",
   "execution_count": 44,
   "metadata": {},
   "outputs": [
    {
     "data": {
      "text/html": [
       "<div>\n",
       "<style scoped>\n",
       "    .dataframe tbody tr th:only-of-type {\n",
       "        vertical-align: middle;\n",
       "    }\n",
       "\n",
       "    .dataframe tbody tr th {\n",
       "        vertical-align: top;\n",
       "    }\n",
       "\n",
       "    .dataframe thead th {\n",
       "        text-align: right;\n",
       "    }\n",
       "</style>\n",
       "<table border=\"1\" class=\"dataframe\">\n",
       "  <thead>\n",
       "    <tr style=\"text-align: right;\">\n",
       "      <th></th>\n",
       "      <th>text</th>\n",
       "      <th>label</th>\n",
       "    </tr>\n",
       "  </thead>\n",
       "  <tbody>\n",
       "    <tr>\n",
       "      <th>3750</th>\n",
       "      <td>Doesnt color the sound depending on how youre ...</td>\n",
       "      <td>positive</td>\n",
       "    </tr>\n",
       "    <tr>\n",
       "      <th>1246</th>\n",
       "      <td>This tool does exactly what it is supposed to ...</td>\n",
       "      <td>positive</td>\n",
       "    </tr>\n",
       "    <tr>\n",
       "      <th>538</th>\n",
       "      <td>Whats great about the Dunlop designThey work T...</td>\n",
       "      <td>positive</td>\n",
       "    </tr>\n",
       "    <tr>\n",
       "      <th>4760</th>\n",
       "      <td>Unit works fine with my digital piano Its ligh...</td>\n",
       "      <td>positive</td>\n",
       "    </tr>\n",
       "    <tr>\n",
       "      <th>5837</th>\n",
       "      <td>Not as good as the headstock tuner I purchased...</td>\n",
       "      <td>neutral</td>\n",
       "    </tr>\n",
       "    <tr>\n",
       "      <th>...</th>\n",
       "      <td>...</td>\n",
       "      <td>...</td>\n",
       "    </tr>\n",
       "    <tr>\n",
       "      <th>6227</th>\n",
       "      <td>Not sure how to rate this tube Replaced a Chin...</td>\n",
       "      <td>neutral</td>\n",
       "    </tr>\n",
       "    <tr>\n",
       "      <th>3131</th>\n",
       "      <td>These are the original perfect fit on my ameri...</td>\n",
       "      <td>positive</td>\n",
       "    </tr>\n",
       "    <tr>\n",
       "      <th>7302</th>\n",
       "      <td>I really like this foot controller because you...</td>\n",
       "      <td>positive</td>\n",
       "    </tr>\n",
       "    <tr>\n",
       "      <th>4074</th>\n",
       "      <td>fits just fineI have two electric guitars and ...</td>\n",
       "      <td>positive</td>\n",
       "    </tr>\n",
       "    <tr>\n",
       "      <th>1532</th>\n",
       "      <td>I have written other reviews about elixir High...</td>\n",
       "      <td>positive</td>\n",
       "    </tr>\n",
       "  </tbody>\n",
       "</table>\n",
       "<p>1027 rows × 2 columns</p>\n",
       "</div>"
      ],
      "text/plain": [
       "                                                   text     label\n",
       "3750  Doesnt color the sound depending on how youre ...  positive\n",
       "1246  This tool does exactly what it is supposed to ...  positive\n",
       "538   Whats great about the Dunlop designThey work T...  positive\n",
       "4760  Unit works fine with my digital piano Its ligh...  positive\n",
       "5837  Not as good as the headstock tuner I purchased...   neutral\n",
       "...                                                 ...       ...\n",
       "6227  Not sure how to rate this tube Replaced a Chin...   neutral\n",
       "3131  These are the original perfect fit on my ameri...  positive\n",
       "7302  I really like this foot controller because you...  positive\n",
       "4074  fits just fineI have two electric guitars and ...  positive\n",
       "1532  I have written other reviews about elixir High...  positive\n",
       "\n",
       "[1027 rows x 2 columns]"
      ]
     },
     "execution_count": 44,
     "metadata": {},
     "output_type": "execute_result"
    }
   ],
   "source": [
    "test_data"
   ]
  },
  {
   "cell_type": "code",
   "execution_count": 45,
   "metadata": {},
   "outputs": [
    {
     "data": {
      "text/plain": [
       "array(['positive', 'neutral', 'negative'], dtype=object)"
      ]
     },
     "execution_count": 45,
     "metadata": {},
     "output_type": "execute_result"
    }
   ],
   "source": [
    "test_data.label.unique()"
   ]
  },
  {
   "cell_type": "code",
   "execution_count": 46,
   "metadata": {},
   "outputs": [
    {
     "data": {
      "text/plain": [
       "array(['positive', 'neutral', 'negative'], dtype=object)"
      ]
     },
     "execution_count": 46,
     "metadata": {},
     "output_type": "execute_result"
    }
   ],
   "source": [
    "train_data.label.unique()"
   ]
  },
  {
   "cell_type": "code",
   "execution_count": 47,
   "metadata": {},
   "outputs": [
    {
     "data": {
      "text/plain": [
       "array(['positive', 'negative', 'neutral'], dtype=object)"
      ]
     },
     "execution_count": 47,
     "metadata": {},
     "output_type": "execute_result"
    }
   ],
   "source": [
    "valid_data.label.unique()"
   ]
  },
  {
   "cell_type": "code",
   "execution_count": 48,
   "metadata": {},
   "outputs": [],
   "source": [
    "# それぞれのデータをcsvとして保存\n",
    "train_data.to_csv(\"train_data.csv\", index=False, header=False)\n",
    "valid_data.to_csv(\"valid_data.csv\", index=False, header=False)\n",
    "test_data.to_csv(\"test_data.csv\", index=False, header=False)"
   ]
  },
  {
   "cell_type": "code",
   "execution_count": null,
   "metadata": {},
   "outputs": [],
   "source": []
  },
  {
   "cell_type": "code",
   "execution_count": null,
   "metadata": {},
   "outputs": [],
   "source": []
  },
  {
   "cell_type": "code",
   "execution_count": null,
   "metadata": {},
   "outputs": [],
   "source": []
  }
 ],
 "metadata": {
  "kernelspec": {
   "display_name": "py_310_transformers3",
   "language": "python",
   "name": "python3"
  },
  "language_info": {
   "codemirror_mode": {
    "name": "ipython",
    "version": 3
   },
   "file_extension": ".py",
   "mimetype": "text/x-python",
   "name": "python",
   "nbconvert_exporter": "python",
   "pygments_lexer": "ipython3",
   "version": "3.10.14"
  }
 },
 "nbformat": 4,
 "nbformat_minor": 2
}
